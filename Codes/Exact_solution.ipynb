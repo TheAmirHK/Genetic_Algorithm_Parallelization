{
  "nbformat": 4,
  "nbformat_minor": 0,
  "metadata": {
    "colab": {
      "provenance": [],
      "authorship_tag": "ABX9TyMkmambXOi+6B5gCLQK9mUU",
      "include_colab_link": true
    },
    "kernelspec": {
      "name": "python3",
      "display_name": "Python 3"
    },
    "language_info": {
      "name": "python"
    }
  },
  "cells": [
    {
      "cell_type": "markdown",
      "metadata": {
        "id": "view-in-github",
        "colab_type": "text"
      },
      "source": [
        "<a href=\"https://colab.research.google.com/github/TheAmirHK/Genetic_Algorithm_Parallelization/blob/main/Codes/Exact_solution.ipynb\" target=\"_parent\"><img src=\"https://colab.research.google.com/assets/colab-badge.svg\" alt=\"Open In Colab\"/></a>"
      ]
    },
    {
      "cell_type": "code",
      "execution_count": 1,
      "metadata": {
        "id": "NcrS6cfY8tv_"
      },
      "outputs": [],
      "source": [
        "# In[Define optimization problem]\n",
        "# minimize x1**2 + 2*x2**2 - 4*x3**2 + 11*x4**3\n",
        "# s.t. x1 + x2 <= 5  and   x3^2 + x4^2 - x2*x1*x3 <= 20 and x1, x2, x3, x4 in [1, 10]\n",
        "# also, x1,x2 are integer variables and x3,x4 are continues.\n",
        "\n",
        "%%capture\n",
        "import sys\n",
        "import os\n",
        "\n",
        "if 'google.colab' in sys.modules:\n",
        "    !pip install idaes-pse --pre\n",
        "    !idaes get-extensions --to ./bin\n",
        "    os.environ['PATH'] += ':bin'"
      ]
    },
    {
      "cell_type": "code",
      "source": [
        "from pyomo.environ import ConcreteModel, Var, Objective, Constraint, SolverFactory, NonNegativeReals, Integers\n",
        "\n",
        "# Create a Pyomo model\n",
        "model = ConcreteModel()\n",
        "\n",
        "# Define decision variables\n",
        "model.x1 = Var(domain=Integers, bounds=(1, 10))\n",
        "model.x2 = Var(domain=Integers, bounds=(1, 10))\n",
        "model.x3 = Var(domain=NonNegativeReals, bounds=(1, 10))\n",
        "model.x4 = Var(domain=NonNegativeReals, bounds=(1, 10))\n",
        "\n",
        "# Define the objective function\n",
        "model.obj = Objective(expr=model.x1**2 + 2*model.x2**3 - 4*model.x3**2 + 11*model.x4**3)\n",
        "\n",
        "# Define the constraints\n",
        "model.con1 = Constraint(expr=model.x1 + model.x2 <= 5)\n",
        "model.con2 = Constraint(expr=model.x3**2 + model.x4**2 - model.x1 * model.x2 * model.x3 <= 20)\n",
        "\n",
        "# Solve the model using a MINLP solver\n",
        "solver = SolverFactory('bonmin')  # Use Bonmin for MINLP\n",
        "result = solver.solve(model, tee=True)\n",
        "\n",
        "# Extract the results\n",
        "optimal_x1 = model.x1.value\n",
        "optimal_x2 = model.x2.value\n",
        "optimal_x3 = model.x3.value\n",
        "optimal_x4 = model.x4.value\n",
        "optimal_f = model.obj.expr()\n",
        "\n",
        "print(f\"Optimal Solution: x1={optimal_x1}, x2={optimal_x2}, x3={optimal_x3}, x4={optimal_x4}\")\n",
        "print(f\"Optimal Objective Value: {optimal_f}\")\n"
      ],
      "metadata": {
        "colab": {
          "base_uri": "https://localhost:8080/"
        },
        "id": "Ukp2MOFz8ujk",
        "outputId": "b1f9b239-d472-4634-c8bb-88fd9f827d22"
      },
      "execution_count": 2,
      "outputs": [
        {
          "output_type": "stream",
          "name": "stdout",
          "text": [
            "Bonmin 1.8.8 using Cbc 2.10.10 and Ipopt 3.13.2\n",
            "bonmin: \n",
            "\n",
            "******************************************************************************\n",
            "This program contains Ipopt, a library for large-scale nonlinear optimization.\n",
            " Ipopt is released as open source code under the Eclipse Public License (EPL).\n",
            "         For more information visit http://projects.coin-or.org/Ipopt\n",
            "\n",
            "This version of Ipopt was compiled from source code available at\n",
            "    https://github.com/IDAES/Ipopt as part of the Institute for the Design of\n",
            "    Advanced Energy Systems Process Systems Engineering Framework (IDAES PSE\n",
            "    Framework) Copyright (c) 2018-2019. See https://github.com/IDAES/idaes-pse.\n",
            "\n",
            "This version of Ipopt was compiled using HSL, a collection of Fortran codes\n",
            "    for large-scale scientific computation.  All technical papers, sales and\n",
            "    publicity material resulting from use of the HSL codes within IPOPT must\n",
            "    contain the following acknowledgement:\n",
            "        HSL, a collection of Fortran codes for large-scale scientific\n",
            "        computation. See http://www.hsl.rl.ac.uk.\n",
            "******************************************************************************\n",
            "\n",
            "NLP0012I \n",
            "              Num      Status      Obj             It       time                 Location\n",
            "NLP0014I             1         OPT -243.53228       16 0.004248\n",
            "NLP0012I \n",
            "              Num      Status      Obj             It       time                 Location\n",
            "NLP0014I             1         OPT -238.99607        8 0.002365\n",
            "NLP0014I             2         OPT -238.99606        6 0.00196\n",
            "NLP0012I \n",
            "              Num      Status      Obj             It       time                 Location\n",
            "NLP0014I             1         OPT -238.99606        6 0.001552\n",
            "Cbc0012I Integer solution of -238.99606 found by DiveMIPFractional after 0 iterations and 0 nodes (0.01 seconds)\n",
            "NLP0014I             2         OPT -238.99607        8 0.003035\n",
            "NLP0014I             3         OPT -205.99608       10 0.001924\n",
            "NLP0014I             4         OPT -205.99607        9 0.004574\n",
            "NLP0014I             5         OPT -238.99607        8 0.002377\n",
            "Cbc0001I Search completed - best objective -238.9960646399934, took 0 iterations and 0 nodes (0.02 seconds)\n",
            "Cbc0032I Strong branching done 2 times (35 iterations), fathomed 1 nodes and fixed 0 variables\n",
            "Cbc0035I Maximum depth 0, 0 variables fixed on reduced cost\n",
            "\b\b\b\b\b\b\b\b\n",
            " \t\"Finished\"\n",
            "Optimal Solution: x1=3.0, x2=2.0, x3=8.291502642917035, x4=1.0\n",
            "Optimal Objective Value: -238.9960643100007\n"
          ]
        }
      ]
    }
  ]
}