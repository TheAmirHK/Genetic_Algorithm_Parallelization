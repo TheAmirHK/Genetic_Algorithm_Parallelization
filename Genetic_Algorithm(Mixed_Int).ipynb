{
  "nbformat": 4,
  "nbformat_minor": 0,
  "metadata": {
    "colab": {
      "provenance": [],
      "authorship_tag": "ABX9TyPixPmB/zXqINtV+q646rsy",
      "include_colab_link": true
    },
    "kernelspec": {
      "name": "python3",
      "display_name": "Python 3"
    },
    "language_info": {
      "name": "python"
    }
  },
  "cells": [
    {
      "cell_type": "markdown",
      "metadata": {
        "id": "view-in-github",
        "colab_type": "text"
      },
      "source": [
        "<a href=\"https://colab.research.google.com/github/TheAmirHK/Genetic_Algorithm_Parallelization/blob/main/Genetic_Algorithm(Mixed_Int).ipynb\" target=\"_parent\"><img src=\"https://colab.research.google.com/assets/colab-badge.svg\" alt=\"Open In Colab\"/></a>"
      ]
    },
    {
      "cell_type": "code",
      "execution_count": 116,
      "metadata": {
        "id": "UAVDZucgzLBm"
      },
      "outputs": [],
      "source": [
        "import random\n",
        "import numpy as np\n",
        "import matplotlib.pyplot as plt\n",
        "from tqdm import tqdm\n",
        "\n",
        "# In[Parameters]\n",
        "POPULATION_SIZE = 1000  # Number of individuals in the population\n",
        "GENERATIONS = 1500  # Number of generations\n",
        "MUTATION_RATE = 0.1  # Mutation rate\n",
        "CROSSOVER_RATE = 0.8  # Crossover rate\n",
        "ELITISM = 3  # Number of best individuals to carry over to the next generation"
      ]
    },
    {
      "cell_type": "code",
      "source": [
        "# In[Define optimization problem]\n",
        "# minimize x1**2 + 2*x2**2 - 4*x3**2 + 11*x4**3\n",
        "# s.t. x1 + x2 <= 5  and   x3^2 + x4^2 - x2*x1*x3 <= 20 and x1, x2, x3, x4 in [1, 10]\n",
        "# also, x1,x2 are integer variables and x3,x4 are continues.\n",
        "\n",
        "INTEGER_INDICES = [0, 1]\n",
        "CONTINUOUS_INDICES = [2, 3]\n",
        "BOUNDS = [(1, 10)]*4\n",
        "\n",
        "def objective_function(individual):\n",
        "    x1, x2, x3, x4 = individual\n",
        "    return x1**2 + 2*x2**3 - 4*x3**2 + 11*x4**3\n",
        "\n",
        "def constraint1(individual):\n",
        "    x1, x2, _, _ = individual\n",
        "    return x1 + x2 - 5\n",
        "\n",
        "def constraint2(individual):\n",
        "    x1, x2, x3, x4 = individual\n",
        "    return (x3**2 + x4**2 - x2*x1*x3)-20\n",
        "\n",
        "def penalty_function(individual):\n",
        "    penalty = 0\n",
        "    if constraint1(individual) > 0:\n",
        "        penalty += 10000 * abs(constraint1(individual))\n",
        "    if constraint2(individual) > 0:\n",
        "        penalty += 10000 * abs(constraint2(individual))\n",
        "    return penalty\n",
        "\n",
        "def fitness_function(individual):\n",
        "    return objective_function(individual) + penalty_function(individual)"
      ],
      "metadata": {
        "id": "kgPshA710b-Z"
      },
      "execution_count": 117,
      "outputs": []
    },
    {
      "cell_type": "code",
      "source": [
        "# In[random population]\n",
        "def create_individual():\n",
        "    return [\n",
        "        random.randint(*BOUNDS[i]) if i in INTEGER_INDICES else random.uniform(*BOUNDS[i])\n",
        "        for i in range(4)\n",
        "    ]\n",
        "\n",
        "def create_population(size):\n",
        "    return [create_individual() for _ in range(size)]"
      ],
      "metadata": {
        "id": "Gd24ksyR0b7Z"
      },
      "execution_count": 118,
      "outputs": []
    },
    {
      "cell_type": "code",
      "source": [
        "# In[selection]\n",
        "def selection(population, k=3):\n",
        "    tournament = random.sample(population, k)\n",
        "    return min(tournament, key=fitness_function)"
      ],
      "metadata": {
        "id": "aYkNdChg0b4b"
      },
      "execution_count": 119,
      "outputs": []
    },
    {
      "cell_type": "code",
      "source": [
        "# In[crossover (single-point crossover)]\n",
        "def crossover(parent1, parent2):\n",
        "    if random.random() < CROSSOVER_RATE:\n",
        "        point = random.randint(1, len(parent1) - 1)\n",
        "        child1 = parent1[:point] + parent2[point:]\n",
        "        child2 = parent2[:point] + parent1[point:]\n",
        "\n",
        "        # Ensure integer values remain integers\n",
        "        for i in INTEGER_INDICES:\n",
        "            child1[i] = int(round(child1[i]))\n",
        "            child2[i] = int(round(child2[i]))\n",
        "\n",
        "        return child1, child2\n",
        "    return parent1, parent2"
      ],
      "metadata": {
        "id": "ohPsDXXi0bvj"
      },
      "execution_count": 120,
      "outputs": []
    },
    {
      "cell_type": "code",
      "source": [
        "# In[mutation within [1, 10]]\n",
        "def mutate(individual):\n",
        "    for i in range(len(individual)):\n",
        "        if random.random() < MUTATION_RATE:\n",
        "            if i in INTEGER_INDICES:\n",
        "                individual[i] = random.randint(*BOUNDS[i])  # Integer mutation\n",
        "            else:\n",
        "                individual[i] += random.uniform(-0.5, 0.5)  # Small perturbation for continuous values\n",
        "                individual[i] = max(BOUNDS[i][0], min(BOUNDS[i][1], individual[i]))  # Keep in bounds\n",
        "    return individual"
      ],
      "metadata": {
        "id": "j169KQvQ0-nC"
      },
      "execution_count": 121,
      "outputs": []
    },
    {
      "cell_type": "code",
      "source": [
        "# In[Evolve the population]\n",
        "def evolve_population(population):\n",
        "    new_population = []\n",
        "\n",
        "    # elitism action\n",
        "    elites = sorted(population, key=fitness_function)[:ELITISM]\n",
        "    new_population.extend(elites)\n",
        "\n",
        "    # put rest of the population with offspring\n",
        "    while len(new_population) < POPULATION_SIZE:\n",
        "        parent1 = selection(population)\n",
        "        parent2 = selection(population)\n",
        "        child1, child2 = crossover(parent1, parent2)\n",
        "        new_population.append(mutate(child1))\n",
        "        new_population.append(mutate(child2))\n",
        "\n",
        "    return new_population[:POPULATION_SIZE]"
      ],
      "metadata": {
        "id": "YxnkdjOY1AlJ"
      },
      "execution_count": 122,
      "outputs": []
    },
    {
      "cell_type": "code",
      "source": [
        "\n",
        "# In[GA]\n",
        "def genetic_algorithm():\n",
        "    population = create_population(POPULATION_SIZE)\n",
        "    best_fitness_history = []\n",
        "\n",
        "    for generation in tqdm(range(GENERATIONS)):\n",
        "        population = evolve_population(population)\n",
        "        best_individual = min(population, key=fitness_function)\n",
        "        best_fitness = fitness_function(best_individual)\n",
        "        best_fitness_history.append(best_fitness)\n",
        "\n",
        "    best_individual = min(population, key=fitness_function)\n",
        "\n",
        "    plt.plot(best_fitness_history)\n",
        "    plt.xlabel(\"Generation\")\n",
        "    plt.ylabel(\"Best Fitness\")\n",
        "    plt.title(\"Evolution of Best Fitness over Generations\")\n",
        "    plt.grid(True)\n",
        "    plt.show()\n",
        "\n",
        "    return best_individual, fitness_function(best_individual)"
      ],
      "metadata": {
        "id": "xMCAr4992qYZ"
      },
      "execution_count": 123,
      "outputs": []
    },
    {
      "cell_type": "code",
      "source": [
        "if __name__ == \"__main__\":\n",
        "    best_solution, best_fitness = genetic_algorithm()\n",
        "    print(f\"\\nOptimal Solution: {best_solution}\")\n",
        "    print(f\"Minimum Objective Value: {best_fitness}\")"
      ],
      "metadata": {
        "colab": {
          "base_uri": "https://localhost:8080/",
          "height": 541
        },
        "id": "B1hTE5eJ1EQC",
        "outputId": "d31775ef-1447-40a9-d4e5-ddd77b80df37"
      },
      "execution_count": 124,
      "outputs": [
        {
          "output_type": "stream",
          "name": "stderr",
          "text": [
            "100%|██████████| 1500/1500 [00:16<00:00, 90.97it/s] \n"
          ]
        },
        {
          "output_type": "display_data",
          "data": {
            "text/plain": [
              "<Figure size 640x480 with 1 Axes>"
            ],
            "image/png": "[encoded data removed]"
          },
          "metadata": {}
        },
        {
          "output_type": "stream",
          "name": "stdout",
          "text": [
            "\n",
            "Optimal Solution: [3, 2, 8.291490859818687, 1]\n",
            "Minimum Objective Value: -238.9952827138273\n"
          ]
        }
      ]
    }
  ]
}