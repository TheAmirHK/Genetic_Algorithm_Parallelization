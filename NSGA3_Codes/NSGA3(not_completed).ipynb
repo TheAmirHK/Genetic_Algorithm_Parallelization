{
  "nbformat": 4,
  "nbformat_minor": 0,
  "metadata": {
    "colab": {
      "provenance": [],
      "authorship_tag": "ABX9TyPAXHONtraooLDlRMxR6biZ",
      "include_colab_link": true
    },
    "kernelspec": {
      "name": "python3",
      "display_name": "Python 3"
    },
    "language_info": {
      "name": "python"
    }
  },
  "cells": [
    {
      "cell_type": "markdown",
      "metadata": {
        "id": "view-in-github",
        "colab_type": "text"
      },
      "source": [
        "<a href=\"https://colab.research.google.com/github/TheAmirHK/Genetic_Algorithm_Parallelization/blob/main/NSGA3_Codes/NSGA3(not_completed).ipynb\" target=\"_parent\"><img src=\"https://colab.research.google.com/assets/colab-badge.svg\" alt=\"Open In Colab\"/></a>"
      ]
    },
    {
      "cell_type": "code",
      "execution_count": null,
      "metadata": {
        "id": "jdKz1n26jlqo"
      },
      "outputs": [],
      "source": [
        "import numpy as np\n",
        "import random\n",
        "from tqdm import tqdm\n",
        "import matplotlib.pyplot as plt\n",
        "from mpl_toolkits.mplot3d import Axes3D"
      ]
    },
    {
      "cell_type": "code",
      "source": [
        "# In[define the parameters and variables]\n",
        "INTEGER_INDICES = [0, 1]\n",
        "CONTINUOUS_INDICES = [2, 3]\n",
        "BOUNDS = [(1, 10)] * 4\n",
        "\n",
        "pop_size = 500\n",
        "generations = 500\n",
        "MUTATION_RATE = 0.15\n",
        "CROSSOVER_RATE = 0.92"
      ],
      "metadata": {
        "id": "wbAYk7m_jryO"
      },
      "execution_count": null,
      "outputs": []
    },
    {
      "cell_type": "code",
      "source": [
        "# In[define the objective functions]\n",
        "def evaluate(individual):\n",
        "    x1, x2, x3, x4 = individual\n",
        "    obj1 = x1**2 + 2*x2**2 - 4*x3**2 + 11*x4**3  # minimize\n",
        "    obj2 = -(x1 - 2*x2**3 - 10*x3**2 - 11*x4**2 + x1*x2)  # maximize\n",
        "    obj3 = x1*x2 + x3**2 - 5*x4  # minimize\n",
        "    return obj1, obj2, obj3"
      ],
      "metadata": {
        "id": "1_fZ70otjrq0"
      },
      "execution_count": null,
      "outputs": []
    },
    {
      "cell_type": "code",
      "source": [
        "# In[define the constraints]\n",
        "def _constraints(individual):\n",
        "    x1, x2, x3, x4 = individual\n",
        "    return (x1 + x2 <= 5) and (x3**2 + x4**2 - x2*x1*x3 <= 20)"
      ],
      "metadata": {
        "id": "0fBz_06ljrnV"
      },
      "execution_count": null,
      "outputs": []
    },
    {
      "cell_type": "code",
      "source": [
        "# In[check if fitness values fit1 dominate fit2]\n",
        "def dominates(fit1, fit2):\n",
        "    return all(x <= y for x, y in zip(fit1, fit2)) and any(x < y for x, y in zip(fit1, fit2))"
      ],
      "metadata": {
        "id": "26g_QO2MjrkF"
      },
      "execution_count": null,
      "outputs": []
    },
    {
      "cell_type": "code",
      "source": [
        "# In[mutation function]\n",
        "def mutate(individual):\n",
        "    for i in range(len(individual)):\n",
        "        if random.random() < MUTATION_RATE:\n",
        "            if i in INTEGER_INDICES:\n",
        "                individual[i] = random.randint(*BOUNDS[i])\n",
        "            else:\n",
        "                individual[i] += random.uniform(-0.5, 0.5)\n",
        "                individual[i] = max(BOUNDS[i][0], min(BOUNDS[i][1], individual[i]))\n",
        "    return individual"
      ],
      "metadata": {
        "id": "Ug-Zvsvjj2PA"
      },
      "execution_count": null,
      "outputs": []
    },
    {
      "cell_type": "code",
      "source": [
        "# In[crossover function]\n",
        "def crossover(parent1, parent2):\n",
        "    if random.random() < CROSSOVER_RATE:\n",
        "        point = random.randint(1, len(parent1) - 1)\n",
        "        child1 = parent1[:point] + parent2[point:]\n",
        "        child2 = parent2[:point] + parent1[point:]\n",
        "\n",
        "        for i in INTEGER_INDICES:\n",
        "            child1[i] = int(round(child1[i]))\n",
        "            child2[i] = int(round(child2[i]))\n",
        "\n",
        "        return child1, child2\n",
        "    return parent1, parent2"
      ],
      "metadata": {
        "id": "cFdN8q9_j4GH"
      },
      "execution_count": null,
      "outputs": []
    },
    {
      "cell_type": "code",
      "source": [
        "# In[non-dominated sorting]\n",
        "def non_dominated_sort(population, fitness_values):\n",
        "    fronts = [[]]\n",
        "    dom_count = {}\n",
        "    dom_set = {}\n",
        "\n",
        "    for i, fit in enumerate(fitness_values):\n",
        "        dom_set[i] = []\n",
        "        dom_count[i] = 0\n",
        "        for j, other_fit in enumerate(fitness_values):\n",
        "            if dominates(fit, other_fit):\n",
        "                dom_set[i].append(j)\n",
        "            elif dominates(other_fit, fit):\n",
        "                dom_count[i] += 1\n",
        "        if dom_count[i] == 0:\n",
        "            fronts[0].append(i)\n",
        "\n",
        "    current_front = 0\n",
        "    while fronts[current_front]:\n",
        "        next_front = []\n",
        "        for i in fronts[current_front]:\n",
        "            for j in dom_set[i]:\n",
        "                dom_count[j] -= 1\n",
        "                if dom_count[j] == 0:\n",
        "                    next_front.append(j)\n",
        "        current_front += 1\n",
        "        fronts.append(next_front)\n",
        "    return fronts[:-1]"
      ],
      "metadata": {
        "id": "Xb7VrEFlj4Cm"
      },
      "execution_count": null,
      "outputs": []
    },
    {
      "cell_type": "code",
      "source": [
        "# In[reference point generation]\n",
        "def generate_reference_points(num_points, num_objectives):\n",
        "    return np.random.dirichlet(np.ones(num_objectives), num_points)"
      ],
      "metadata": {
        "id": "fMRqabz9j3_f"
      },
      "execution_count": null,
      "outputs": []
    },
    {
      "cell_type": "code",
      "source": [
        "# I have to write the niching selection"
      ],
      "metadata": {
        "id": "cEn0HUmaj_0l"
      },
      "execution_count": null,
      "outputs": []
    },
    {
      "cell_type": "code",
      "source": [],
      "metadata": {
        "id": "Nr3NjjQXj_qV"
      },
      "execution_count": null,
      "outputs": []
    }
  ]
}